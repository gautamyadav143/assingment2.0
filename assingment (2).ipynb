{
 "cells": [
  {
   "cell_type": "raw",
   "id": "72681a7d-7da7-4d36-8d59-2d5005dbeace",
   "metadata": {},
   "source": [
    "Q1.\n",
    "for doing a comment we will use hash(#) sine.\n",
    "    There are two types of comments (i) #short type comment \n",
    "    (ii) '''long type of comment'''"
   ]
  },
  {
   "cell_type": "raw",
   "id": "8fcd061f-955a-4959-9208-98602f1de866",
   "metadata": {},
   "source": [
    "Q2.\n",
    "A Python variable is a symbolic name that is a reference or pointer to an object.\n",
    "For assign values to variables , we wil use of = this sine , for example a = 32,54,4,"
   ]
  },
  {
   "cell_type": "raw",
   "id": "c10ad87f-36d5-48e6-a0ce-69c76183f2ef",
   "metadata": {},
   "source": [
    "Q3.\n",
    "For convert one data type to another data type we will use int(), float(), str() to directly convert one data type into another."
   ]
  },
  {
   "cell_type": "raw",
   "id": "a8046d18-0f4e-4217-a2a8-4b343d72a37a",
   "metadata": {},
   "source": [
    "Q4.\n",
    "The most basic and easy way to run a Python script is by using the python command. we need to open a command line and type the word python followed by the path to your script file like this: python first_script.py Hello World! Then you hit the ENTER button from the keyboard, and that's it."
   ]
  },
  {
   "cell_type": "code",
   "execution_count": 4,
   "id": "23ee6126-585f-456d-aff6-0744d47cfabf",
   "metadata": {},
   "outputs": [],
   "source": [
    "#Q5.\n",
    "my_list =[1,2,3,4,5]\n",
    "#we would use this sine my_list[1:3] for obtain the sub list [2,3]"
   ]
  },
  {
   "cell_type": "code",
   "execution_count": 8,
   "id": "88dce846-1c0c-44d5-8065-e5bab9b175ee",
   "metadata": {},
   "outputs": [
    {
     "data": {
      "text/plain": [
       "[2, 3]"
      ]
     },
     "execution_count": 8,
     "metadata": {},
     "output_type": "execute_result"
    }
   ],
   "source": [
    "my_list[1:3]"
   ]
  },
  {
   "cell_type": "raw",
   "id": "df652cdc-3dd0-4f1f-82f4-1efec1a06443",
   "metadata": {},
   "source": [
    " Q6.\n",
    " In mathematics the numbers that are expressed in the form of a+ib where, a,b are real numbers and 'i' is an imaginary number called “iota\" \n",
    " This is represented in python like 344=543j"
   ]
  },
  {
   "cell_type": "raw",
   "id": "8a350948-6a38-4a0f-bf71-9aeed56f1e44",
   "metadata": {},
   "source": [
    "Q7.\n",
    " The correct way to declare a variable named age and assign the value 25 to it is dictionary loop {}."
   ]
  },
  {
   "cell_type": "code",
   "execution_count": 12,
   "id": "7392d24c-c2b2-49ba-a84e-81beea1f5cea",
   "metadata": {},
   "outputs": [
    {
     "data": {
      "text/plain": [
       "'this data type of the variable is dict'"
      ]
     },
     "execution_count": 12,
     "metadata": {},
     "output_type": "execute_result"
    }
   ],
   "source": [
    "#Q8.\n",
    "a = {'name' : 'devashish yadav' , 'price' : 9.99}\n",
    "'''this data type of the variable is dict'''"
   ]
  },
  {
   "cell_type": "code",
   "execution_count": 11,
   "id": "a45ca99e-8981-447a-9fb9-cdb711d5a58a",
   "metadata": {},
   "outputs": [
    {
     "data": {
      "text/plain": [
       "dict"
      ]
     },
     "execution_count": 11,
     "metadata": {},
     "output_type": "execute_result"
    }
   ],
   "source": [
    "type(a)"
   ]
  },
  {
   "cell_type": "code",
   "execution_count": 13,
   "id": "8ff1fe5e-753f-44aa-a0af-275d2db40d32",
   "metadata": {},
   "outputs": [],
   "source": [
    "#Q9.\n",
    "d = \"devashish yadav\""
   ]
  },
  {
   "cell_type": "code",
   "execution_count": 16,
   "id": "cc673a9f-ad88-4516-81d0-aff1b7f917bd",
   "metadata": {},
   "outputs": [
    {
     "name": "stdout",
     "output_type": "stream",
     "text": [
      "<built-in method count of str object at 0x7fca64f06970>\n"
     ]
    }
   ],
   "source": [
    "print(d.count)"
   ]
  },
  {
   "cell_type": "code",
   "execution_count": 40,
   "id": "04f20177-f2a1-4efc-8456-fb8377b99979",
   "metadata": {},
   "outputs": [],
   "source": [
    "#Q10.\n",
    "a = \"Hello,World!\""
   ]
  },
  {
   "cell_type": "code",
   "execution_count": 39,
   "id": "93baa6dc-939e-4104-9682-1da5dd30d26b",
   "metadata": {},
   "outputs": [
    {
     "data": {
      "text/plain": [
       "'World'"
      ]
     },
     "execution_count": 39,
     "metadata": {},
     "output_type": "execute_result"
    }
   ],
   "source": [
    "a[6:11]"
   ]
  },
  {
   "cell_type": "code",
   "execution_count": 45,
   "id": "720c2904-f806-4b86-885c-40b23b6ac70b",
   "metadata": {},
   "outputs": [],
   "source": [
    "#Q10.\n",
    "a = 'is_student'"
   ]
  },
  {
   "cell_type": "code",
   "execution_count": 43,
   "id": "f5c017c7-85e6-4cc5-9c5e-49d39ef8cb1f",
   "metadata": {},
   "outputs": [],
   "source": [
    "a=True"
   ]
  },
  {
   "cell_type": "code",
   "execution_count": 44,
   "id": "6202a82e-d1f8-497f-8489-28594c872e64",
   "metadata": {},
   "outputs": [
    {
     "data": {
      "text/plain": [
       "True"
      ]
     },
     "execution_count": 44,
     "metadata": {},
     "output_type": "execute_result"
    }
   ],
   "source": [
    "a"
   ]
  },
  {
   "cell_type": "code",
   "execution_count": null,
   "id": "c1df6a3e-8f94-4699-ae43-ba56c7e578b7",
   "metadata": {},
   "outputs": [],
   "source": []
  }
 ],
 "metadata": {
  "kernelspec": {
   "display_name": "Python 3 (ipykernel)",
   "language": "python",
   "name": "python3"
  },
  "language_info": {
   "codemirror_mode": {
    "name": "ipython",
    "version": 3
   },
   "file_extension": ".py",
   "mimetype": "text/x-python",
   "name": "python",
   "nbconvert_exporter": "python",
   "pygments_lexer": "ipython3",
   "version": "3.10.8"
  }
 },
 "nbformat": 4,
 "nbformat_minor": 5
}
